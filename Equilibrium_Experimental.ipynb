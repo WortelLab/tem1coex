{
 "cells": [
  {
   "cell_type": "markdown",
   "id": "74e7cc7c",
   "metadata": {},
   "source": [
    "# Notebook for the calculation of the equilibrium frequency from the experimental data"
   ]
  },
  {
   "cell_type": "code",
   "execution_count": 1,
   "id": "f3b6165c",
   "metadata": {},
   "outputs": [],
   "source": [
    "import numpy as np\n",
    "import scipy.optimize\n",
    "import matplotlib.pyplot as plt\n",
    "import pandas as pd\n",
    "import seaborn as sns\n",
    "\n",
    "%matplotlib inline\n",
    "\n",
    "sns.set()"
   ]
  },
  {
   "cell_type": "markdown",
   "id": "d0baf85d",
   "metadata": {},
   "source": [
    "### Loading of dataset and setting of some variables"
   ]
  },
  {
   "cell_type": "code",
   "execution_count": 2,
   "id": "c09a0edc",
   "metadata": {},
   "outputs": [],
   "source": [
    "X_plot = np.linspace(0, 1, 100)"
   ]
  },
  {
   "cell_type": "code",
   "execution_count": 3,
   "id": "07f6085f",
   "metadata": {},
   "outputs": [],
   "source": [
    "transferexp = pd.read_csv('data/Supplemental_data_data_coex.csv')\n",
    "transferexp['abs_diff_with_next'] = np.abs(transferexp['Ratio_startcycle'] - transferexp['Ratio'])\n",
    "transferexp['diff_with_next'] = transferexp['Ratio_startcycle'] - transferexp['Ratio']"
   ]
  },
  {
   "cell_type": "code",
   "execution_count": 4,
   "id": "60c08e75",
   "metadata": {},
   "outputs": [
    {
     "data": {
      "text/html": [
       "<div>\n",
       "<style scoped>\n",
       "    .dataframe tbody tr th:only-of-type {\n",
       "        vertical-align: middle;\n",
       "    }\n",
       "\n",
       "    .dataframe tbody tr th {\n",
       "        vertical-align: top;\n",
       "    }\n",
       "\n",
       "    .dataframe thead th {\n",
       "        text-align: right;\n",
       "    }\n",
       "</style>\n",
       "<table border=\"1\" class=\"dataframe\">\n",
       "  <thead>\n",
       "    <tr style=\"text-align: right;\">\n",
       "      <th></th>\n",
       "      <th>Time</th>\n",
       "      <th>Initial_ratio_Triple</th>\n",
       "      <th>Treatment</th>\n",
       "      <th>Replicate</th>\n",
       "      <th>Ratio_startcycle</th>\n",
       "      <th>Triple</th>\n",
       "      <th>G238S</th>\n",
       "      <th>Ratio</th>\n",
       "      <th>CTX</th>\n",
       "      <th>Unique_code</th>\n",
       "      <th>abs_diff_with_next</th>\n",
       "      <th>diff_with_next</th>\n",
       "    </tr>\n",
       "  </thead>\n",
       "  <tbody>\n",
       "    <tr>\n",
       "      <th>0</th>\n",
       "      <td>0</td>\n",
       "      <td>0.1</td>\n",
       "      <td>0.2</td>\n",
       "      <td>1</td>\n",
       "      <td>0.1</td>\n",
       "      <td>NaN</td>\n",
       "      <td>NaN</td>\n",
       "      <td>0.1</td>\n",
       "      <td>12.5</td>\n",
       "      <td>0.1_12.5_T0_Repl1</td>\n",
       "      <td>0.0</td>\n",
       "      <td>0.0</td>\n",
       "    </tr>\n",
       "    <tr>\n",
       "      <th>1</th>\n",
       "      <td>0</td>\n",
       "      <td>0.1</td>\n",
       "      <td>0.2</td>\n",
       "      <td>2</td>\n",
       "      <td>0.1</td>\n",
       "      <td>NaN</td>\n",
       "      <td>NaN</td>\n",
       "      <td>0.1</td>\n",
       "      <td>12.5</td>\n",
       "      <td>0.1_12.5_T0_Repl2</td>\n",
       "      <td>0.0</td>\n",
       "      <td>0.0</td>\n",
       "    </tr>\n",
       "    <tr>\n",
       "      <th>2</th>\n",
       "      <td>0</td>\n",
       "      <td>0.1</td>\n",
       "      <td>0.2</td>\n",
       "      <td>3</td>\n",
       "      <td>0.1</td>\n",
       "      <td>NaN</td>\n",
       "      <td>NaN</td>\n",
       "      <td>0.1</td>\n",
       "      <td>12.5</td>\n",
       "      <td>0.1_12.5_T0_Repl3</td>\n",
       "      <td>0.0</td>\n",
       "      <td>0.0</td>\n",
       "    </tr>\n",
       "    <tr>\n",
       "      <th>3</th>\n",
       "      <td>0</td>\n",
       "      <td>0.1</td>\n",
       "      <td>0.2</td>\n",
       "      <td>4</td>\n",
       "      <td>0.1</td>\n",
       "      <td>NaN</td>\n",
       "      <td>NaN</td>\n",
       "      <td>0.1</td>\n",
       "      <td>12.5</td>\n",
       "      <td>0.1_12.5_T0_Repl4</td>\n",
       "      <td>0.0</td>\n",
       "      <td>0.0</td>\n",
       "    </tr>\n",
       "    <tr>\n",
       "      <th>4</th>\n",
       "      <td>0</td>\n",
       "      <td>0.1</td>\n",
       "      <td>0.2</td>\n",
       "      <td>5</td>\n",
       "      <td>0.1</td>\n",
       "      <td>NaN</td>\n",
       "      <td>NaN</td>\n",
       "      <td>0.1</td>\n",
       "      <td>12.5</td>\n",
       "      <td>0.1_12.5_T0_Repl5</td>\n",
       "      <td>0.0</td>\n",
       "      <td>0.0</td>\n",
       "    </tr>\n",
       "  </tbody>\n",
       "</table>\n",
       "</div>"
      ],
      "text/plain": [
       "   Time  Initial_ratio_Triple  Treatment  Replicate  Ratio_startcycle  Triple  \\\n",
       "0     0                   0.1        0.2          1               0.1     NaN   \n",
       "1     0                   0.1        0.2          2               0.1     NaN   \n",
       "2     0                   0.1        0.2          3               0.1     NaN   \n",
       "3     0                   0.1        0.2          4               0.1     NaN   \n",
       "4     0                   0.1        0.2          5               0.1     NaN   \n",
       "\n",
       "   G238S  Ratio   CTX        Unique_code  abs_diff_with_next  diff_with_next  \n",
       "0    NaN    0.1  12.5  0.1_12.5_T0_Repl1                 0.0             0.0  \n",
       "1    NaN    0.1  12.5  0.1_12.5_T0_Repl2                 0.0             0.0  \n",
       "2    NaN    0.1  12.5  0.1_12.5_T0_Repl3                 0.0             0.0  \n",
       "3    NaN    0.1  12.5  0.1_12.5_T0_Repl4                 0.0             0.0  \n",
       "4    NaN    0.1  12.5  0.1_12.5_T0_Repl5                 0.0             0.0  "
      ]
     },
     "execution_count": 4,
     "metadata": {},
     "output_type": "execute_result"
    }
   ],
   "source": [
    "transferexp.head()"
   ]
  },
  {
   "cell_type": "code",
   "execution_count": 5,
   "id": "e697e919",
   "metadata": {},
   "outputs": [
    {
     "data": {
      "text/plain": [
       "array([12.5, 25. , 50. ])"
      ]
     },
     "execution_count": 5,
     "metadata": {},
     "output_type": "execute_result"
    }
   ],
   "source": [
    "transferexp['CTX'].unique()"
   ]
  },
  {
   "cell_type": "code",
   "execution_count": 6,
   "id": "c7853166",
   "metadata": {},
   "outputs": [
    {
     "data": {
      "text/plain": [
       "array([0.2 , 0.43, 0.93, 2.  ])"
      ]
     },
     "execution_count": 6,
     "metadata": {},
     "output_type": "execute_result"
    }
   ],
   "source": [
    "transferexp['Treatment'].unique()"
   ]
  },
  {
   "cell_type": "markdown",
   "id": "38c34c5f",
   "metadata": {},
   "source": [
    "Create subsets for only one antibiotic concentration (CTX) or only one glycerol concentration (Treatment) for making plots and sub analysis. Timepoint 0 is removed because that is before the first transfer, so there is no start and end ratio for that one."
   ]
  },
  {
   "cell_type": "code",
   "execution_count": 7,
   "id": "8bf11b30",
   "metadata": {},
   "outputs": [],
   "source": [
    "transferexp12 = transferexp[(transferexp['CTX']==12.5) & (transferexp['Time'] != 0)]\n",
    "transferexp25 = transferexp[(transferexp['CTX']==25.) & (transferexp['Time'] != 0)]\n",
    "transferexp50 = transferexp[(transferexp['CTX']==50.) & (transferexp['Time'] != 0)]\n",
    "transferexp2 = transferexp[(transferexp['Treatment']==2) & (transferexp['Time'] != 0)]\n",
    "transferexp093 = transferexp[(transferexp['Treatment']==0.93) & (transferexp['Time'] != 0)]\n",
    "transferexp043 = transferexp[(transferexp['Treatment']==0.43) & (transferexp['Time'] != 0)]\n",
    "transferexp02 = transferexp[(transferexp['Treatment']==0.2) & (transferexp['Time'] != 0)]"
   ]
  },
  {
   "cell_type": "code",
   "execution_count": 8,
   "id": "1b8d03e8",
   "metadata": {},
   "outputs": [
    {
     "data": {
      "text/html": [
       "<div>\n",
       "<style scoped>\n",
       "    .dataframe tbody tr th:only-of-type {\n",
       "        vertical-align: middle;\n",
       "    }\n",
       "\n",
       "    .dataframe tbody tr th {\n",
       "        vertical-align: top;\n",
       "    }\n",
       "\n",
       "    .dataframe thead th {\n",
       "        text-align: right;\n",
       "    }\n",
       "</style>\n",
       "<table border=\"1\" class=\"dataframe\">\n",
       "  <thead>\n",
       "    <tr style=\"text-align: right;\">\n",
       "      <th></th>\n",
       "      <th>Time</th>\n",
       "      <th>Initial_ratio_Triple</th>\n",
       "      <th>Treatment</th>\n",
       "      <th>Replicate</th>\n",
       "      <th>Ratio_startcycle</th>\n",
       "      <th>Triple</th>\n",
       "      <th>G238S</th>\n",
       "      <th>Ratio</th>\n",
       "      <th>CTX</th>\n",
       "      <th>Unique_code</th>\n",
       "      <th>abs_diff_with_next</th>\n",
       "      <th>diff_with_next</th>\n",
       "    </tr>\n",
       "  </thead>\n",
       "  <tbody>\n",
       "    <tr>\n",
       "      <th>96</th>\n",
       "      <td>48</td>\n",
       "      <td>0.1</td>\n",
       "      <td>0.2</td>\n",
       "      <td>1</td>\n",
       "      <td>0.1</td>\n",
       "      <td>335000000.0</td>\n",
       "      <td>35800000.0</td>\n",
       "      <td>0.903561</td>\n",
       "      <td>12.5</td>\n",
       "      <td>0.1_12.5_T48_Repl1</td>\n",
       "      <td>0.803561</td>\n",
       "      <td>-0.803561</td>\n",
       "    </tr>\n",
       "    <tr>\n",
       "      <th>97</th>\n",
       "      <td>48</td>\n",
       "      <td>0.1</td>\n",
       "      <td>0.2</td>\n",
       "      <td>2</td>\n",
       "      <td>0.1</td>\n",
       "      <td>275000000.0</td>\n",
       "      <td>82400000.0</td>\n",
       "      <td>0.769416</td>\n",
       "      <td>12.5</td>\n",
       "      <td>0.1_12.5_T48_Repl2</td>\n",
       "      <td>0.669416</td>\n",
       "      <td>-0.669416</td>\n",
       "    </tr>\n",
       "    <tr>\n",
       "      <th>98</th>\n",
       "      <td>48</td>\n",
       "      <td>0.1</td>\n",
       "      <td>0.2</td>\n",
       "      <td>3</td>\n",
       "      <td>0.1</td>\n",
       "      <td>246000000.0</td>\n",
       "      <td>105000000.0</td>\n",
       "      <td>0.701220</td>\n",
       "      <td>12.5</td>\n",
       "      <td>0.1_12.5_T48_Repl3</td>\n",
       "      <td>0.601220</td>\n",
       "      <td>-0.601220</td>\n",
       "    </tr>\n",
       "    <tr>\n",
       "      <th>99</th>\n",
       "      <td>48</td>\n",
       "      <td>0.1</td>\n",
       "      <td>0.2</td>\n",
       "      <td>4</td>\n",
       "      <td>0.1</td>\n",
       "      <td>293000000.0</td>\n",
       "      <td>68800000.0</td>\n",
       "      <td>0.809913</td>\n",
       "      <td>12.5</td>\n",
       "      <td>0.1_12.5_T48_Repl4</td>\n",
       "      <td>0.709913</td>\n",
       "      <td>-0.709913</td>\n",
       "    </tr>\n",
       "    <tr>\n",
       "      <th>100</th>\n",
       "      <td>48</td>\n",
       "      <td>0.1</td>\n",
       "      <td>0.2</td>\n",
       "      <td>5</td>\n",
       "      <td>0.1</td>\n",
       "      <td>342000000.0</td>\n",
       "      <td>32900000.0</td>\n",
       "      <td>0.912299</td>\n",
       "      <td>12.5</td>\n",
       "      <td>0.1_12.5_T48_Repl5</td>\n",
       "      <td>0.812299</td>\n",
       "      <td>-0.812299</td>\n",
       "    </tr>\n",
       "  </tbody>\n",
       "</table>\n",
       "</div>"
      ],
      "text/plain": [
       "     Time  Initial_ratio_Triple  Treatment  Replicate  Ratio_startcycle  \\\n",
       "96     48                   0.1        0.2          1               0.1   \n",
       "97     48                   0.1        0.2          2               0.1   \n",
       "98     48                   0.1        0.2          3               0.1   \n",
       "99     48                   0.1        0.2          4               0.1   \n",
       "100    48                   0.1        0.2          5               0.1   \n",
       "\n",
       "          Triple        G238S     Ratio   CTX         Unique_code  \\\n",
       "96   335000000.0   35800000.0  0.903561  12.5  0.1_12.5_T48_Repl1   \n",
       "97   275000000.0   82400000.0  0.769416  12.5  0.1_12.5_T48_Repl2   \n",
       "98   246000000.0  105000000.0  0.701220  12.5  0.1_12.5_T48_Repl3   \n",
       "99   293000000.0   68800000.0  0.809913  12.5  0.1_12.5_T48_Repl4   \n",
       "100  342000000.0   32900000.0  0.912299  12.5  0.1_12.5_T48_Repl5   \n",
       "\n",
       "     abs_diff_with_next  diff_with_next  \n",
       "96             0.803561       -0.803561  \n",
       "97             0.669416       -0.669416  \n",
       "98             0.601220       -0.601220  \n",
       "99             0.709913       -0.709913  \n",
       "100            0.812299       -0.812299  "
      ]
     },
     "execution_count": 8,
     "metadata": {},
     "output_type": "execute_result"
    }
   ],
   "source": [
    "transferexp12.head()"
   ]
  },
  {
   "cell_type": "markdown",
   "id": "391a1bbe",
   "metadata": {},
   "source": [
    "### Function to calcuate the equilibrium ration (crossing of the diagonal)"
   ]
  },
  {
   "cell_type": "markdown",
   "id": "e224602d",
   "metadata": {},
   "source": [
    "The function cross_diag takes as input a dateframe with one experiment (one glycerol concentration, one antibiotic concentration and one replica) and does the following operations to calculate the equilibrium frequency:\n",
    "1. The dataframe is sorted by the initial frequency of TEM-52 (the most resistent strain)\n",
    "2. A list of pairs [initial frequency, final frequency] is created\n",
    "3. For every item (except the last) in the list the difference of initial frequency with the next initial frequency is calculated\n",
    "4. Similarly, the difference of the final frequency with the next final frequency is calculated\n",
    "5. If these are unequal (otherwise the diagonal cannot be crossed and this would otherwise lead to division by 0), the difference of the final and initial ratio is divided by the change in the final ration minus the change in the initial ratio ( (saved as t) => this can be seen as moving from the first pair in the direction of the second pair, where t gives how far to move in that direction to reach the diagonal (as relative to the second pair, so t=1 would mean the second pair is exactly on the diagonal)\n",
    "6. If t is between 1 and 0, this means the diagonal is crossed at the inital ratio plus t * the change in the initial ratio\n",
    "7. the average of all crossings is returned"
   ]
  },
  {
   "cell_type": "code",
   "execution_count": 9,
   "id": "9c6a8ff8",
   "metadata": {},
   "outputs": [],
   "source": [
    "def cross_diag(df):\n",
    "    df = df.sort_values('Ratio_startcycle')\n",
    "    ta = np.array([[ratio1, ratio2] for ratio1, ratio2 in zip(df['Ratio_startcycle'], df['Ratio'])])\n",
    "    crossings = []\n",
    "    for i in range(0,len(ta)-1):\n",
    "        deltax = (ta[i+1,0]-ta[i,0])\n",
    "        deltay = ta[i+1,1]-ta[i,1]\n",
    "        if deltay != deltax:\n",
    "            t = (ta[i,0]-ta[i,1])/(deltay-deltax)\n",
    "        else:\n",
    "            t = 0\n",
    "        if 0<t<1:\n",
    "            crossings.append(ta[i,0]+t*deltax)\n",
    "    return np.mean(crossings)"
   ]
  },
  {
   "cell_type": "markdown",
   "id": "d6628196",
   "metadata": {},
   "source": [
    "### Example of calculation of the equilibrium frequency for CTX=50 and a starting ratio of 0.1"
   ]
  },
  {
   "cell_type": "code",
   "execution_count": 19,
   "id": "df9ff13c",
   "metadata": {},
   "outputs": [],
   "source": [
    "selection_tr50_all = transferexp50[(transferexp50['Initial_ratio_Triple']==0.1)]"
   ]
  },
  {
   "cell_type": "code",
   "execution_count": 20,
   "id": "50423529",
   "metadata": {},
   "outputs": [
    {
     "name": "stderr",
     "output_type": "stream",
     "text": [
      "C:\\Users\\meike\\anaconda3\\lib\\site-packages\\numpy\\core\\fromnumeric.py:3441: RuntimeWarning: Mean of empty slice.\n",
      "  out=out, **kwargs)\n",
      "C:\\Users\\meike\\anaconda3\\lib\\site-packages\\numpy\\core\\_methods.py:189: RuntimeWarning: invalid value encountered in double_scalars\n",
      "  ret = ret.dtype.type(ret / rcount)\n"
     ]
    }
   ],
   "source": [
    "intersections_selection_tr50_all = selection_tr50_all.groupby(['CTX', 'Replicate', 'Treatment', 'Initial_ratio_Triple']).apply(cross_diag)\n",
    "intersections_selection_tr50_all = [intersections_selection_tr50_all.loc[[i]].reset_index().values.tolist()[0] for i in intersections_selection_tr50_all.index]"
   ]
  },
  {
   "cell_type": "code",
   "execution_count": 21,
   "id": "dcb6af4f",
   "metadata": {},
   "outputs": [],
   "source": [
    "max1 = len(intersections_selection_tr50_all)"
   ]
  },
  {
   "cell_type": "code",
   "execution_count": 27,
   "id": "de7f14e8",
   "metadata": {},
   "outputs": [
    {
     "data": {
      "image/png": "[encoded data removed]",
      "text/plain": [
       "<Figure size 599.944x500 with 1 Axes>"
      ]
     },
     "metadata": {},
     "output_type": "display_data"
    }
   ],
   "source": [
    "sns.relplot(data=selection_tr50_all, x=\"Ratio_startcycle\", y=\"Ratio\", hue='Treatment', kind='line', palette=\"deep\", style='Replicate', aspect=1)\n",
    "\n",
    "X_plot = np.linspace(0, 1, 100)\n",
    "\n",
    "for i in range(0,max1, 4):\n",
    "    plt.plot(intersections_selection_tr50_all[i][4],intersections_selection_tr50_all[i][4], marker=\"d\", markersize=10, markeredgecolor=\"blue\", markerfacecolor=\"blue\")\n",
    "for i in range(1,max1, 4):\n",
    "    plt.plot(intersections_selection_tr50_all[i][4],intersections_selection_tr50_all[i][4], marker=\"d\", markersize=10, markeredgecolor=\"orange\", markerfacecolor=\"orange\")\n",
    "for i in range(2,max1, 4):\n",
    "    plt.plot(intersections_selection_tr50_all[i][4],intersections_selection_tr50_all[i][4], marker=\"d\", markersize=10, markeredgecolor=\"green\", markerfacecolor=\"green\")\n",
    "for i in range(3,max1, 4):\n",
    "    plt.plot(intersections_selection_tr50_all[i][4],intersections_selection_tr50_all[i][4], marker=\"d\", markersize=10, markeredgecolor=\"red\", markerfacecolor=\"red\")\n",
    "\n",
    "plt.plot(X_plot,X_plot, c='k')\n",
    "\n",
    "plt.xlabel('Initial ratio TEM-52')\n",
    "plt.ylabel('Final ratio TEM-52')\n",
    "\n",
    "plt.savefig('Example_eqratio.png')\n",
    "\n",
    "plt.show()"
   ]
  },
  {
   "cell_type": "markdown",
   "id": "fada7ef3",
   "metadata": {},
   "source": [
    "### Calculate the equilibrium frequency for all experiments"
   ]
  },
  {
   "cell_type": "code",
   "execution_count": 28,
   "id": "cec0c6c4",
   "metadata": {},
   "outputs": [
    {
     "name": "stderr",
     "output_type": "stream",
     "text": [
      "C:\\Users\\meike\\anaconda3\\lib\\site-packages\\numpy\\core\\fromnumeric.py:3441: RuntimeWarning: Mean of empty slice.\n",
      "  out=out, **kwargs)\n",
      "C:\\Users\\meike\\anaconda3\\lib\\site-packages\\numpy\\core\\_methods.py:189: RuntimeWarning: invalid value encountered in double_scalars\n",
      "  ret = ret.dtype.type(ret / rcount)\n"
     ]
    }
   ],
   "source": [
    "diag_cross_groups_all = transferexp.groupby(['CTX', 'Replicate', 'Treatment', 'Initial_ratio_Triple']).apply(cross_diag)"
   ]
  },
  {
   "cell_type": "code",
   "execution_count": 29,
   "id": "0b6fd4cf",
   "metadata": {},
   "outputs": [
    {
     "data": {
      "text/html": [
       "<div>\n",
       "<style scoped>\n",
       "    .dataframe tbody tr th:only-of-type {\n",
       "        vertical-align: middle;\n",
       "    }\n",
       "\n",
       "    .dataframe tbody tr th {\n",
       "        vertical-align: top;\n",
       "    }\n",
       "\n",
       "    .dataframe thead th {\n",
       "        text-align: right;\n",
       "    }\n",
       "</style>\n",
       "<table border=\"1\" class=\"dataframe\">\n",
       "  <thead>\n",
       "    <tr style=\"text-align: right;\">\n",
       "      <th></th>\n",
       "      <th>CTX</th>\n",
       "      <th>Replicate</th>\n",
       "      <th>Treatment</th>\n",
       "      <th>Initial_ratio_Triple</th>\n",
       "      <th>0</th>\n",
       "    </tr>\n",
       "  </thead>\n",
       "  <tbody>\n",
       "    <tr>\n",
       "      <th>0</th>\n",
       "      <td>12.5</td>\n",
       "      <td>1</td>\n",
       "      <td>0.20</td>\n",
       "      <td>0.1</td>\n",
       "      <td>0.999955</td>\n",
       "    </tr>\n",
       "    <tr>\n",
       "      <th>1</th>\n",
       "      <td>12.5</td>\n",
       "      <td>1</td>\n",
       "      <td>0.20</td>\n",
       "      <td>0.5</td>\n",
       "      <td>0.065918</td>\n",
       "    </tr>\n",
       "    <tr>\n",
       "      <th>2</th>\n",
       "      <td>12.5</td>\n",
       "      <td>1</td>\n",
       "      <td>0.20</td>\n",
       "      <td>0.9</td>\n",
       "      <td>0.090967</td>\n",
       "    </tr>\n",
       "    <tr>\n",
       "      <th>3</th>\n",
       "      <td>12.5</td>\n",
       "      <td>1</td>\n",
       "      <td>0.43</td>\n",
       "      <td>0.1</td>\n",
       "      <td>NaN</td>\n",
       "    </tr>\n",
       "    <tr>\n",
       "      <th>4</th>\n",
       "      <td>12.5</td>\n",
       "      <td>1</td>\n",
       "      <td>0.43</td>\n",
       "      <td>0.5</td>\n",
       "      <td>NaN</td>\n",
       "    </tr>\n",
       "    <tr>\n",
       "      <th>...</th>\n",
       "      <td>...</td>\n",
       "      <td>...</td>\n",
       "      <td>...</td>\n",
       "      <td>...</td>\n",
       "      <td>...</td>\n",
       "    </tr>\n",
       "    <tr>\n",
       "      <th>283</th>\n",
       "      <td>50.0</td>\n",
       "      <td>8</td>\n",
       "      <td>0.93</td>\n",
       "      <td>0.5</td>\n",
       "      <td>0.444606</td>\n",
       "    </tr>\n",
       "    <tr>\n",
       "      <th>284</th>\n",
       "      <td>50.0</td>\n",
       "      <td>8</td>\n",
       "      <td>0.93</td>\n",
       "      <td>0.9</td>\n",
       "      <td>0.943178</td>\n",
       "    </tr>\n",
       "    <tr>\n",
       "      <th>285</th>\n",
       "      <td>50.0</td>\n",
       "      <td>8</td>\n",
       "      <td>2.00</td>\n",
       "      <td>0.1</td>\n",
       "      <td>0.094687</td>\n",
       "    </tr>\n",
       "    <tr>\n",
       "      <th>286</th>\n",
       "      <td>50.0</td>\n",
       "      <td>8</td>\n",
       "      <td>2.00</td>\n",
       "      <td>0.5</td>\n",
       "      <td>0.476964</td>\n",
       "    </tr>\n",
       "    <tr>\n",
       "      <th>287</th>\n",
       "      <td>50.0</td>\n",
       "      <td>8</td>\n",
       "      <td>2.00</td>\n",
       "      <td>0.9</td>\n",
       "      <td>0.829303</td>\n",
       "    </tr>\n",
       "  </tbody>\n",
       "</table>\n",
       "<p>288 rows × 5 columns</p>\n",
       "</div>"
      ],
      "text/plain": [
       "      CTX  Replicate  Treatment  Initial_ratio_Triple         0\n",
       "0    12.5          1       0.20                   0.1  0.999955\n",
       "1    12.5          1       0.20                   0.5  0.065918\n",
       "2    12.5          1       0.20                   0.9  0.090967\n",
       "3    12.5          1       0.43                   0.1       NaN\n",
       "4    12.5          1       0.43                   0.5       NaN\n",
       "..    ...        ...        ...                   ...       ...\n",
       "283  50.0          8       0.93                   0.5  0.444606\n",
       "284  50.0          8       0.93                   0.9  0.943178\n",
       "285  50.0          8       2.00                   0.1  0.094687\n",
       "286  50.0          8       2.00                   0.5  0.476964\n",
       "287  50.0          8       2.00                   0.9  0.829303\n",
       "\n",
       "[288 rows x 5 columns]"
      ]
     },
     "execution_count": 29,
     "metadata": {},
     "output_type": "execute_result"
    }
   ],
   "source": [
    "diag_cross_groups_all.reset_index()"
   ]
  },
  {
   "cell_type": "code",
   "execution_count": 31,
   "id": "d750f7ad",
   "metadata": {},
   "outputs": [],
   "source": [
    "#diag_cross_groups_all.reset_index().to_csv('equilibrium_freq_experimental.csv', index=False)  "
   ]
  },
  {
   "cell_type": "markdown",
   "id": "32c3f105-7d7d-4c3d-b3c3-ca846871bf02",
   "metadata": {},
   "source": [
    "### Plotting contourplot from best model estimates determined in R"
   ]
  },
  {
   "cell_type": "code",
   "execution_count": 16,
   "id": "3abea896",
   "metadata": {},
   "outputs": [],
   "source": [
    "CTX = np.linspace(12.5,50, num= 1000)\n",
    "Trt = np.linspace(0.2,2, num= 1000) "
   ]
  },
  {
   "cell_type": "code",
   "execution_count": 27,
   "id": "bd3b5a02-e865-44f7-8256-46db7a4a160b",
   "metadata": {},
   "outputs": [
    {
     "data": {
      "image/png": "[encoded data removed]",
      "text/plain": [
       "<Figure size 640x480 with 2 Axes>"
      ]
     },
     "metadata": {},
     "output_type": "display_data"
    }
   ],
   "source": [
    "import numpy as np\n",
    "import matplotlib.pyplot as plt\n",
    "from matplotlib import ticker, cm\n",
    "X, Y = np.meshgrid(CTX, Trt)\n",
    "\n",
    "Z =  np.exp(-0.563124*Y +0.034151*X -1.730354 ) #best model GLMM replicate random factor\n",
    "\n",
    "Z[Z > 1] = 1\n",
    "Z[Z < 0] = 0\n",
    "#Z=np.array(Z_new)µ\n",
    "fig,ax=plt.subplots(1,1)\n",
    "cp = ax.contourf(X, Y, Z, levels=3,cmap=cm.viridis)\n",
    "fig.colorbar(cp) # Add a colorbar to a plot\n",
    "plt.yscale('log')\n",
    "plt.xscale('log')\n",
    "ax.set_xlabel('Antibiotic (CTX [ug/ml])')\n",
    "ax.set_ylabel('Density (Gly [%])')\n",
    "ax.set_xticks([20,30,40,50]) \n",
    "ax.set_xticklabels([20,30,40,50], fontsize=12)\n",
    "ax.set_yticks([0.5,1.0,1.5,2]) \n",
    "ax.set_yticklabels([0.5,1.0,1.5,2], fontsize=12)\n",
    "plt.savefig(\"eqq.pdf\", format=\"pdf\", bbox_inches=\"tight\")\n",
    "plt.show()"
   ]
  }
 ],
 "metadata": {
  "kernelspec": {
   "display_name": "Python 3 (ipykernel)",
   "language": "python",
   "name": "python3"
  },
  "language_info": {
   "codemirror_mode": {
    "name": "ipython",
    "version": 3
   },
   "file_extension": ".py",
   "mimetype": "text/x-python",
   "name": "python",
   "nbconvert_exporter": "python",
   "pygments_lexer": "ipython3",
   "version": "3.7.16"
  }
 },
 "nbformat": 4,
 "nbformat_minor": 5
}
