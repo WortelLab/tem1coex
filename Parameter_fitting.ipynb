{
 "cells": [
  {
   "cell_type": "markdown",
   "metadata": {},
   "source": [
    "# Notebook for the fitting of the growth equation"
   ]
  },
  {
   "cell_type": "code",
   "execution_count": 1,
   "metadata": {},
   "outputs": [],
   "source": [
    "import numpy as np\n",
    "import matplotlib.pyplot as plt\n",
    "import pandas as pd\n",
    "import seaborn as sns\n",
    "import matplotlib.cm\n",
    "from scipy.optimize import curve_fit\n",
    "\n",
    "%matplotlib inline\n",
    "\n",
    "sns.set()"
   ]
  },
  {
   "cell_type": "code",
   "execution_count": 2,
   "metadata": {},
   "outputs": [],
   "source": [
    "def growth(a, B, T, h, ec50, **kwargs):\n",
    "    return B + (T-B)/(1 + (a/ec50)**h)"
   ]
  },
  {
   "cell_type": "markdown",
   "metadata": {},
   "source": [
    "## Load and edit data"
   ]
  },
  {
   "cell_type": "code",
   "execution_count": 3,
   "metadata": {},
   "outputs": [
    {
     "data": {
      "text/html": [
       "<div>\n",
       "<style scoped>\n",
       "    .dataframe tbody tr th:only-of-type {\n",
       "        vertical-align: middle;\n",
       "    }\n",
       "\n",
       "    .dataframe tbody tr th {\n",
       "        vertical-align: top;\n",
       "    }\n",
       "\n",
       "    .dataframe thead th {\n",
       "        text-align: right;\n",
       "    }\n",
       "</style>\n",
       "<table border=\"1\" class=\"dataframe\">\n",
       "  <thead>\n",
       "    <tr style=\"text-align: right;\">\n",
       "      <th></th>\n",
       "      <th>Strain</th>\n",
       "      <th>CTX</th>\n",
       "      <th>Replicate</th>\n",
       "      <th>growth rate</th>\n",
       "    </tr>\n",
       "  </thead>\n",
       "  <tbody>\n",
       "    <tr>\n",
       "      <th>0</th>\n",
       "      <td>TEM-52</td>\n",
       "      <td>4096.00000</td>\n",
       "      <td>1</td>\n",
       "      <td>0.021195</td>\n",
       "    </tr>\n",
       "    <tr>\n",
       "      <th>1</th>\n",
       "      <td>TEM-52</td>\n",
       "      <td>2048.00000</td>\n",
       "      <td>1</td>\n",
       "      <td>0.135151</td>\n",
       "    </tr>\n",
       "    <tr>\n",
       "      <th>2</th>\n",
       "      <td>TEM-52</td>\n",
       "      <td>1024.00000</td>\n",
       "      <td>1</td>\n",
       "      <td>0.140168</td>\n",
       "    </tr>\n",
       "    <tr>\n",
       "      <th>3</th>\n",
       "      <td>TEM-52</td>\n",
       "      <td>512.00000</td>\n",
       "      <td>1</td>\n",
       "      <td>0.151600</td>\n",
       "    </tr>\n",
       "    <tr>\n",
       "      <th>4</th>\n",
       "      <td>TEM-52</td>\n",
       "      <td>256.00000</td>\n",
       "      <td>1</td>\n",
       "      <td>0.143139</td>\n",
       "    </tr>\n",
       "    <tr>\n",
       "      <th>5</th>\n",
       "      <td>TEM-52</td>\n",
       "      <td>128.00000</td>\n",
       "      <td>1</td>\n",
       "      <td>0.130756</td>\n",
       "    </tr>\n",
       "    <tr>\n",
       "      <th>6</th>\n",
       "      <td>TEM-52</td>\n",
       "      <td>64.00000</td>\n",
       "      <td>1</td>\n",
       "      <td>0.132731</td>\n",
       "    </tr>\n",
       "    <tr>\n",
       "      <th>7</th>\n",
       "      <td>TEM-52</td>\n",
       "      <td>0.00000</td>\n",
       "      <td>1</td>\n",
       "      <td>0.188231</td>\n",
       "    </tr>\n",
       "    <tr>\n",
       "      <th>8</th>\n",
       "      <td>TEM-19</td>\n",
       "      <td>2.00000</td>\n",
       "      <td>1</td>\n",
       "      <td>0.034447</td>\n",
       "    </tr>\n",
       "    <tr>\n",
       "      <th>9</th>\n",
       "      <td>TEM-19</td>\n",
       "      <td>1.00000</td>\n",
       "      <td>1</td>\n",
       "      <td>0.036098</td>\n",
       "    </tr>\n",
       "    <tr>\n",
       "      <th>10</th>\n",
       "      <td>TEM-19</td>\n",
       "      <td>0.50000</td>\n",
       "      <td>1</td>\n",
       "      <td>0.145753</td>\n",
       "    </tr>\n",
       "    <tr>\n",
       "      <th>11</th>\n",
       "      <td>TEM-19</td>\n",
       "      <td>0.25000</td>\n",
       "      <td>1</td>\n",
       "      <td>0.167489</td>\n",
       "    </tr>\n",
       "    <tr>\n",
       "      <th>12</th>\n",
       "      <td>TEM-19</td>\n",
       "      <td>0.12500</td>\n",
       "      <td>1</td>\n",
       "      <td>0.178498</td>\n",
       "    </tr>\n",
       "    <tr>\n",
       "      <th>13</th>\n",
       "      <td>TEM-19</td>\n",
       "      <td>0.06250</td>\n",
       "      <td>1</td>\n",
       "      <td>0.192567</td>\n",
       "    </tr>\n",
       "    <tr>\n",
       "      <th>14</th>\n",
       "      <td>TEM-19</td>\n",
       "      <td>0.03125</td>\n",
       "      <td>1</td>\n",
       "      <td>0.193220</td>\n",
       "    </tr>\n",
       "    <tr>\n",
       "      <th>15</th>\n",
       "      <td>TEM-19</td>\n",
       "      <td>0.00000</td>\n",
       "      <td>1</td>\n",
       "      <td>0.191882</td>\n",
       "    </tr>\n",
       "    <tr>\n",
       "      <th>16</th>\n",
       "      <td>TEM-52</td>\n",
       "      <td>4096.00000</td>\n",
       "      <td>2</td>\n",
       "      <td>0.024457</td>\n",
       "    </tr>\n",
       "    <tr>\n",
       "      <th>17</th>\n",
       "      <td>TEM-52</td>\n",
       "      <td>2048.00000</td>\n",
       "      <td>2</td>\n",
       "      <td>0.137833</td>\n",
       "    </tr>\n",
       "    <tr>\n",
       "      <th>18</th>\n",
       "      <td>TEM-52</td>\n",
       "      <td>1024.00000</td>\n",
       "      <td>2</td>\n",
       "      <td>0.137823</td>\n",
       "    </tr>\n",
       "    <tr>\n",
       "      <th>19</th>\n",
       "      <td>TEM-52</td>\n",
       "      <td>512.00000</td>\n",
       "      <td>2</td>\n",
       "      <td>0.150834</td>\n",
       "    </tr>\n",
       "    <tr>\n",
       "      <th>20</th>\n",
       "      <td>TEM-52</td>\n",
       "      <td>256.00000</td>\n",
       "      <td>2</td>\n",
       "      <td>0.137505</td>\n",
       "    </tr>\n",
       "    <tr>\n",
       "      <th>21</th>\n",
       "      <td>TEM-52</td>\n",
       "      <td>128.00000</td>\n",
       "      <td>2</td>\n",
       "      <td>0.128412</td>\n",
       "    </tr>\n",
       "    <tr>\n",
       "      <th>22</th>\n",
       "      <td>TEM-52</td>\n",
       "      <td>64.00000</td>\n",
       "      <td>2</td>\n",
       "      <td>0.137286</td>\n",
       "    </tr>\n",
       "    <tr>\n",
       "      <th>23</th>\n",
       "      <td>TEM-52</td>\n",
       "      <td>0.00000</td>\n",
       "      <td>2</td>\n",
       "      <td>0.181881</td>\n",
       "    </tr>\n",
       "    <tr>\n",
       "      <th>24</th>\n",
       "      <td>TEM-19</td>\n",
       "      <td>2.00000</td>\n",
       "      <td>2</td>\n",
       "      <td>0.033665</td>\n",
       "    </tr>\n",
       "    <tr>\n",
       "      <th>25</th>\n",
       "      <td>TEM-19</td>\n",
       "      <td>1.00000</td>\n",
       "      <td>2</td>\n",
       "      <td>0.028955</td>\n",
       "    </tr>\n",
       "    <tr>\n",
       "      <th>26</th>\n",
       "      <td>TEM-19</td>\n",
       "      <td>0.50000</td>\n",
       "      <td>2</td>\n",
       "      <td>0.165511</td>\n",
       "    </tr>\n",
       "    <tr>\n",
       "      <th>27</th>\n",
       "      <td>TEM-19</td>\n",
       "      <td>0.25000</td>\n",
       "      <td>2</td>\n",
       "      <td>0.185283</td>\n",
       "    </tr>\n",
       "    <tr>\n",
       "      <th>28</th>\n",
       "      <td>TEM-19</td>\n",
       "      <td>0.12500</td>\n",
       "      <td>2</td>\n",
       "      <td>0.177091</td>\n",
       "    </tr>\n",
       "    <tr>\n",
       "      <th>29</th>\n",
       "      <td>TEM-19</td>\n",
       "      <td>0.06250</td>\n",
       "      <td>2</td>\n",
       "      <td>0.189845</td>\n",
       "    </tr>\n",
       "    <tr>\n",
       "      <th>30</th>\n",
       "      <td>TEM-19</td>\n",
       "      <td>0.03125</td>\n",
       "      <td>2</td>\n",
       "      <td>0.187561</td>\n",
       "    </tr>\n",
       "    <tr>\n",
       "      <th>31</th>\n",
       "      <td>TEM-19</td>\n",
       "      <td>0.00000</td>\n",
       "      <td>2</td>\n",
       "      <td>0.189565</td>\n",
       "    </tr>\n",
       "    <tr>\n",
       "      <th>32</th>\n",
       "      <td>TEM-52</td>\n",
       "      <td>4096.00000</td>\n",
       "      <td>3</td>\n",
       "      <td>0.032751</td>\n",
       "    </tr>\n",
       "    <tr>\n",
       "      <th>33</th>\n",
       "      <td>TEM-52</td>\n",
       "      <td>2048.00000</td>\n",
       "      <td>3</td>\n",
       "      <td>0.127148</td>\n",
       "    </tr>\n",
       "    <tr>\n",
       "      <th>34</th>\n",
       "      <td>TEM-52</td>\n",
       "      <td>1024.00000</td>\n",
       "      <td>3</td>\n",
       "      <td>0.133035</td>\n",
       "    </tr>\n",
       "    <tr>\n",
       "      <th>35</th>\n",
       "      <td>TEM-52</td>\n",
       "      <td>512.00000</td>\n",
       "      <td>3</td>\n",
       "      <td>0.150309</td>\n",
       "    </tr>\n",
       "    <tr>\n",
       "      <th>36</th>\n",
       "      <td>TEM-52</td>\n",
       "      <td>256.00000</td>\n",
       "      <td>3</td>\n",
       "      <td>0.132459</td>\n",
       "    </tr>\n",
       "    <tr>\n",
       "      <th>37</th>\n",
       "      <td>TEM-52</td>\n",
       "      <td>128.00000</td>\n",
       "      <td>3</td>\n",
       "      <td>0.122369</td>\n",
       "    </tr>\n",
       "    <tr>\n",
       "      <th>38</th>\n",
       "      <td>TEM-52</td>\n",
       "      <td>64.00000</td>\n",
       "      <td>3</td>\n",
       "      <td>0.135793</td>\n",
       "    </tr>\n",
       "    <tr>\n",
       "      <th>39</th>\n",
       "      <td>TEM-52</td>\n",
       "      <td>0.00000</td>\n",
       "      <td>3</td>\n",
       "      <td>0.183774</td>\n",
       "    </tr>\n",
       "    <tr>\n",
       "      <th>40</th>\n",
       "      <td>TEM-19</td>\n",
       "      <td>2.00000</td>\n",
       "      <td>3</td>\n",
       "      <td>0.047708</td>\n",
       "    </tr>\n",
       "    <tr>\n",
       "      <th>41</th>\n",
       "      <td>TEM-19</td>\n",
       "      <td>1.00000</td>\n",
       "      <td>3</td>\n",
       "      <td>0.026127</td>\n",
       "    </tr>\n",
       "    <tr>\n",
       "      <th>42</th>\n",
       "      <td>TEM-19</td>\n",
       "      <td>0.50000</td>\n",
       "      <td>3</td>\n",
       "      <td>0.171316</td>\n",
       "    </tr>\n",
       "    <tr>\n",
       "      <th>43</th>\n",
       "      <td>TEM-19</td>\n",
       "      <td>0.25000</td>\n",
       "      <td>3</td>\n",
       "      <td>0.174484</td>\n",
       "    </tr>\n",
       "    <tr>\n",
       "      <th>44</th>\n",
       "      <td>TEM-19</td>\n",
       "      <td>0.12500</td>\n",
       "      <td>3</td>\n",
       "      <td>0.174692</td>\n",
       "    </tr>\n",
       "    <tr>\n",
       "      <th>45</th>\n",
       "      <td>TEM-19</td>\n",
       "      <td>0.06250</td>\n",
       "      <td>3</td>\n",
       "      <td>0.186212</td>\n",
       "    </tr>\n",
       "    <tr>\n",
       "      <th>46</th>\n",
       "      <td>TEM-19</td>\n",
       "      <td>0.03125</td>\n",
       "      <td>3</td>\n",
       "      <td>0.164573</td>\n",
       "    </tr>\n",
       "    <tr>\n",
       "      <th>47</th>\n",
       "      <td>TEM-19</td>\n",
       "      <td>0.00000</td>\n",
       "      <td>3</td>\n",
       "      <td>0.187503</td>\n",
       "    </tr>\n",
       "  </tbody>\n",
       "</table>\n",
       "</div>"
      ],
      "text/plain": [
       "    Strain         CTX  Replicate  growth rate\n",
       "0   TEM-52  4096.00000          1     0.021195\n",
       "1   TEM-52  2048.00000          1     0.135151\n",
       "2   TEM-52  1024.00000          1     0.140168\n",
       "3   TEM-52   512.00000          1     0.151600\n",
       "4   TEM-52   256.00000          1     0.143139\n",
       "5   TEM-52   128.00000          1     0.130756\n",
       "6   TEM-52    64.00000          1     0.132731\n",
       "7   TEM-52     0.00000          1     0.188231\n",
       "8   TEM-19     2.00000          1     0.034447\n",
       "9   TEM-19     1.00000          1     0.036098\n",
       "10  TEM-19     0.50000          1     0.145753\n",
       "11  TEM-19     0.25000          1     0.167489\n",
       "12  TEM-19     0.12500          1     0.178498\n",
       "13  TEM-19     0.06250          1     0.192567\n",
       "14  TEM-19     0.03125          1     0.193220\n",
       "15  TEM-19     0.00000          1     0.191882\n",
       "16  TEM-52  4096.00000          2     0.024457\n",
       "17  TEM-52  2048.00000          2     0.137833\n",
       "18  TEM-52  1024.00000          2     0.137823\n",
       "19  TEM-52   512.00000          2     0.150834\n",
       "20  TEM-52   256.00000          2     0.137505\n",
       "21  TEM-52   128.00000          2     0.128412\n",
       "22  TEM-52    64.00000          2     0.137286\n",
       "23  TEM-52     0.00000          2     0.181881\n",
       "24  TEM-19     2.00000          2     0.033665\n",
       "25  TEM-19     1.00000          2     0.028955\n",
       "26  TEM-19     0.50000          2     0.165511\n",
       "27  TEM-19     0.25000          2     0.185283\n",
       "28  TEM-19     0.12500          2     0.177091\n",
       "29  TEM-19     0.06250          2     0.189845\n",
       "30  TEM-19     0.03125          2     0.187561\n",
       "31  TEM-19     0.00000          2     0.189565\n",
       "32  TEM-52  4096.00000          3     0.032751\n",
       "33  TEM-52  2048.00000          3     0.127148\n",
       "34  TEM-52  1024.00000          3     0.133035\n",
       "35  TEM-52   512.00000          3     0.150309\n",
       "36  TEM-52   256.00000          3     0.132459\n",
       "37  TEM-52   128.00000          3     0.122369\n",
       "38  TEM-52    64.00000          3     0.135793\n",
       "39  TEM-52     0.00000          3     0.183774\n",
       "40  TEM-19     2.00000          3     0.047708\n",
       "41  TEM-19     1.00000          3     0.026127\n",
       "42  TEM-19     0.50000          3     0.171316\n",
       "43  TEM-19     0.25000          3     0.174484\n",
       "44  TEM-19     0.12500          3     0.174692\n",
       "45  TEM-19     0.06250          3     0.186212\n",
       "46  TEM-19     0.03125          3     0.164573\n",
       "47  TEM-19     0.00000          3     0.187503"
      ]
     },
     "execution_count": 3,
     "metadata": {},
     "output_type": "execute_result"
    }
   ],
   "source": [
    "gd = pd.read_csv('data/growth_rates_long.csv')\n",
    "gd = gd.rename(columns={'Allele': 'Strain'})\n",
    "gd['Strain'] = gd['Strain'].replace({'Triple': 'TEM-52', 'G238S': 'TEM-19'})\n",
    "gd"
   ]
  },
  {
   "cell_type": "code",
   "execution_count": 4,
   "metadata": {},
   "outputs": [
    {
     "data": {
      "text/html": [
       "<div>\n",
       "<style scoped>\n",
       "    .dataframe tbody tr th:only-of-type {\n",
       "        vertical-align: middle;\n",
       "    }\n",
       "\n",
       "    .dataframe tbody tr th {\n",
       "        vertical-align: top;\n",
       "    }\n",
       "\n",
       "    .dataframe thead th {\n",
       "        text-align: right;\n",
       "    }\n",
       "</style>\n",
       "<table border=\"1\" class=\"dataframe\">\n",
       "  <thead>\n",
       "    <tr style=\"text-align: right;\">\n",
       "      <th></th>\n",
       "      <th>Strain</th>\n",
       "      <th>CTX</th>\n",
       "      <th>Replicate</th>\n",
       "      <th>growth rate</th>\n",
       "    </tr>\n",
       "  </thead>\n",
       "  <tbody>\n",
       "    <tr>\n",
       "      <th>0</th>\n",
       "      <td>TEM-52</td>\n",
       "      <td>4096.0</td>\n",
       "      <td>1</td>\n",
       "      <td>0.021195</td>\n",
       "    </tr>\n",
       "    <tr>\n",
       "      <th>1</th>\n",
       "      <td>TEM-52</td>\n",
       "      <td>2048.0</td>\n",
       "      <td>1</td>\n",
       "      <td>0.135151</td>\n",
       "    </tr>\n",
       "    <tr>\n",
       "      <th>2</th>\n",
       "      <td>TEM-52</td>\n",
       "      <td>1024.0</td>\n",
       "      <td>1</td>\n",
       "      <td>0.140168</td>\n",
       "    </tr>\n",
       "    <tr>\n",
       "      <th>3</th>\n",
       "      <td>TEM-52</td>\n",
       "      <td>512.0</td>\n",
       "      <td>1</td>\n",
       "      <td>0.151600</td>\n",
       "    </tr>\n",
       "    <tr>\n",
       "      <th>4</th>\n",
       "      <td>TEM-52</td>\n",
       "      <td>256.0</td>\n",
       "      <td>1</td>\n",
       "      <td>0.143139</td>\n",
       "    </tr>\n",
       "  </tbody>\n",
       "</table>\n",
       "</div>"
      ],
      "text/plain": [
       "   Strain     CTX  Replicate  growth rate\n",
       "0  TEM-52  4096.0          1     0.021195\n",
       "1  TEM-52  2048.0          1     0.135151\n",
       "2  TEM-52  1024.0          1     0.140168\n",
       "3  TEM-52   512.0          1     0.151600\n",
       "4  TEM-52   256.0          1     0.143139"
      ]
     },
     "execution_count": 4,
     "metadata": {},
     "output_type": "execute_result"
    }
   ],
   "source": [
    "gd.head()"
   ]
  },
  {
   "cell_type": "code",
   "execution_count": 5,
   "metadata": {},
   "outputs": [],
   "source": [
    "gd.columns = [c.replace(' ', '_') for c in gd.columns]\n"
   ]
  },
  {
   "cell_type": "code",
   "execution_count": 6,
   "metadata": {},
   "outputs": [
    {
     "name": "stderr",
     "output_type": "stream",
     "text": [
      "C:\\Users\\meike\\anaconda3\\lib\\site-packages\\pandas\\core\\indexing.py:1817: SettingWithCopyWarning: \n",
      "A value is trying to be set on a copy of a slice from a DataFrame.\n",
      "Try using .loc[row_indexer,col_indexer] = value instead\n",
      "\n",
      "See the caveats in the documentation: https://pandas.pydata.org/pandas-docs/stable/user_guide/indexing.html#returning-a-view-versus-a-copy\n",
      "  self._setitem_single_column(loc, value, pi)\n"
     ]
    }
   ],
   "source": [
    "gd_copy = gd.copy()\n",
    "gd.loc[(gd.growth_rate < 0.1),'growth_rate'] = 0 #lower than 0.1 is no obsurved growth\n",
    "gd = gd.loc[~((gd['Strain']=='TEM-19') & (gd['CTX']==2)),:] #remove cases where there is death\n",
    "gd.loc[(gd.CTX == 0),'CTX'] = 10e-7 #make sure we can take a log\n",
    "#Add the death rates from the measusments\n",
    "gd = gd.append(pd.DataFrame({\"Strain\":['TEM-19', 'TEM-19'],\"CTX\":[12.5, 25], \"Replicate\":[4,4], \"growth_rate\":[-1.59, -1.54]}),ignore_index=True)"
   ]
  },
  {
   "cell_type": "code",
   "execution_count": null,
   "metadata": {},
   "outputs": [],
   "source": []
  },
  {
   "cell_type": "markdown",
   "metadata": {},
   "source": [
    "## Average growth rates used in the serial transfer model"
   ]
  },
  {
   "cell_type": "code",
   "execution_count": 8,
   "metadata": {},
   "outputs": [
    {
     "data": {
      "text/html": [
       "<div>\n",
       "<style scoped>\n",
       "    .dataframe tbody tr th:only-of-type {\n",
       "        vertical-align: middle;\n",
       "    }\n",
       "\n",
       "    .dataframe tbody tr th {\n",
       "        vertical-align: top;\n",
       "    }\n",
       "\n",
       "    .dataframe thead th {\n",
       "        text-align: right;\n",
       "    }\n",
       "</style>\n",
       "<table border=\"1\" class=\"dataframe\">\n",
       "  <thead>\n",
       "    <tr style=\"text-align: right;\">\n",
       "      <th></th>\n",
       "      <th>CTX</th>\n",
       "      <th>Replicate</th>\n",
       "      <th>growth_rate</th>\n",
       "    </tr>\n",
       "    <tr>\n",
       "      <th>Strain</th>\n",
       "      <th></th>\n",
       "      <th></th>\n",
       "      <th></th>\n",
       "    </tr>\n",
       "  </thead>\n",
       "  <tbody>\n",
       "    <tr>\n",
       "      <th>TEM-19</th>\n",
       "      <td>0.000001</td>\n",
       "      <td>2.0</td>\n",
       "      <td>0.189650</td>\n",
       "    </tr>\n",
       "    <tr>\n",
       "      <th>TEM-52</th>\n",
       "      <td>0.000001</td>\n",
       "      <td>2.0</td>\n",
       "      <td>0.184628</td>\n",
       "    </tr>\n",
       "  </tbody>\n",
       "</table>\n",
       "</div>"
      ],
      "text/plain": [
       "             CTX  Replicate  growth_rate\n",
       "Strain                                  \n",
       "TEM-19  0.000001        2.0     0.189650\n",
       "TEM-52  0.000001        2.0     0.184628"
      ]
     },
     "execution_count": 8,
     "metadata": {},
     "output_type": "execute_result"
    }
   ],
   "source": [
    "gd[gd['CTX']==10e-7].groupby('Strain').mean()"
   ]
  },
  {
   "cell_type": "markdown",
   "metadata": {},
   "source": [
    "## Fit growth of TEM-52 depending on CTX (used for continuous model)"
   ]
  },
  {
   "cell_type": "code",
   "execution_count": 10,
   "metadata": {},
   "outputs": [],
   "source": [
    "datafitTriple = gd.loc[gd['Strain']=='TEM-52']['CTX'].values\n",
    "datafitTripleRes = gd.loc[gd['Strain']=='TEM-52']['growth_rate'].values"
   ]
  },
  {
   "cell_type": "code",
   "execution_count": 11,
   "metadata": {},
   "outputs": [],
   "source": [
    "popt, pcov = curve_fit(growth, datafitTriple, datafitTripleRes, p0=[ -5, 0.14, 5,  9000], bounds=([-100,0,0.01,0.01],[100,100,100,100000]))"
   ]
  },
  {
   "cell_type": "code",
   "execution_count": 12,
   "metadata": {},
   "outputs": [
    {
     "data": {
      "text/plain": [
       "array([-9.65432637e+01,  1.45904776e-01,  3.39708830e+00,  2.77159160e+04])"
      ]
     },
     "execution_count": 12,
     "metadata": {},
     "output_type": "execute_result"
    }
   ],
   "source": [
    "popt"
   ]
  },
  {
   "cell_type": "markdown",
   "metadata": {},
   "source": [
    "## Fit growth of TEM-19 depending on CTX (used for continuous model)"
   ]
  },
  {
   "cell_type": "code",
   "execution_count": 14,
   "metadata": {},
   "outputs": [],
   "source": [
    "datafitTriple = gd.loc[gd['Strain']=='TEM-19']['CTX'].values\n",
    "datafitTripleRes = gd.loc[gd['Strain']=='TEM-19']['growth_rate'].values"
   ]
  },
  {
   "cell_type": "code",
   "execution_count": 15,
   "metadata": {},
   "outputs": [],
   "source": [
    "poptG, pcovG = curve_fit(growth, datafitTriple, datafitTripleRes, p0=[-1.565, 0.18, 4, 1.4], bounds=([-100,0,0.01,0.01],[100,100,100,100]))"
   ]
  },
  {
   "cell_type": "code",
   "execution_count": 16,
   "metadata": {},
   "outputs": [
    {
     "data": {
      "text/plain": [
       "array([-1.56639982,  0.18261494,  3.4209448 ,  1.87257939])"
      ]
     },
     "execution_count": 16,
     "metadata": {},
     "output_type": "execute_result"
    }
   ],
   "source": [
    "poptG"
   ]
  },
  {
   "cell_type": "markdown",
   "metadata": {},
   "source": [
    "## Visualize fit"
   ]
  },
  {
   "cell_type": "code",
   "execution_count": 18,
   "metadata": {},
   "outputs": [
    {
     "data": {
      "text/plain": [
       "[<matplotlib.lines.Line2D at 0x2d5bead6bc8>]"
      ]
     },
     "execution_count": 18,
     "metadata": {},
     "output_type": "execute_result"
    },
    {
     "data": {
      "image/png": "[encoded data removed]",
      "text/plain": [
       "<Figure size 700x700 with 1 Axes>"
      ]
     },
     "metadata": {},
     "output_type": "display_data"
    }
   ],
   "source": [
    "f, ax = plt.subplots(figsize=(7, 7))\n",
    "ax.set(xscale='log', ylim=[-2,0.4])\n",
    "sns.scatterplot(data=gd, x=\"CTX\", y=\"growth_rate\", hue=\"Strain\", ax=ax)\n",
    "ax.plot(np.logspace(-6, 6, num=10000), growth(np.logspace(-6, 6, num=10000), *popt))\n",
    "ax.plot(np.logspace(-6, 6, num=10000), growth(np.logspace(-6, 6, num=10000), *poptG))"
   ]
  },
  {
   "cell_type": "code",
   "execution_count": 19,
   "metadata": {},
   "outputs": [
    {
     "data": {
      "text/plain": [
       "[<matplotlib.lines.Line2D at 0x2d5bebbe708>]"
      ]
     },
     "execution_count": 19,
     "metadata": {},
     "output_type": "execute_result"
    },
    {
     "data": {
      "image/png": "[encoded data removed]",
      "text/plain": [
       "<Figure size 700x700 with 1 Axes>"
      ]
     },
     "metadata": {},
     "output_type": "display_data"
    }
   ],
   "source": [
    "f, ax = plt.subplots(figsize=(7, 7))\n",
    "ax.set(xscale='log', ylim=[0,0.4])\n",
    "sns.scatterplot(data=gd, x=\"CTX\", y=\"growth_rate\", hue=\"Strain\", ax=ax)\n",
    "ax.plot(np.logspace(-6, 6, num=10000), growth(np.logspace(-6, 6, num=10000), *popt))\n",
    "ax.plot(np.logspace(-6, 6, num=10000), growth(np.logspace(-6, 6, num=10000), *poptG))"
   ]
  },
  {
   "cell_type": "code",
   "execution_count": 21,
   "metadata": {
    "scrolled": true
   },
   "outputs": [
    {
     "data": {
      "image/png": "[encoded data removed]",
      "text/plain": [
       "<Figure size 700x700 with 1 Axes>"
      ]
     },
     "metadata": {},
     "output_type": "display_data"
    }
   ],
   "source": [
    "f, ax = plt.subplots(figsize=(7, 7))\n",
    "ax.set(xscale='log', ylim=[-2,0.4])\n",
    "sns.scatterplot(data=gd, x=\"CTX\", y=\"growth_rate\", hue=\"Strain\", ax=ax)\n",
    "ax.plot(np.logspace(-6, 3.6, num=8000), growth(np.logspace(-6, 3.6, num=8000), *popt))\n",
    "ax.plot(np.logspace(-6, 3.6, num=8000), growth(np.logspace(-6, 3.6, num=8000), *poptG))\n",
    "ax.set_ylabel(r'Growth rate ($h^{-1}$)')\n",
    "ax.set_xlabel(r'CTX concentration ($\\mu$g/ml)')\n",
    "#plt.savefig(\"growth_fit.jpg\")"
   ]
  },
  {
   "cell_type": "code",
   "execution_count": null,
   "metadata": {},
   "outputs": [],
   "source": []
  }
 ],
 "metadata": {
  "kernelspec": {
   "display_name": "Python 3 (ipykernel)",
   "language": "python",
   "name": "python3"
  },
  "language_info": {
   "codemirror_mode": {
    "name": "ipython",
    "version": 3
   },
   "file_extension": ".py",
   "mimetype": "text/x-python",
   "name": "python",
   "nbconvert_exporter": "python",
   "pygments_lexer": "ipython3",
   "version": "3.7.16"
  }
 },
 "nbformat": 4,
 "nbformat_minor": 4
}
